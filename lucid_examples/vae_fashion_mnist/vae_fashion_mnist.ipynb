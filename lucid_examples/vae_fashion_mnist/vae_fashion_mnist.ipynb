{
 "cells": [
  {
   "cell_type": "code",
   "execution_count": null,
   "id": "bd257bbf",
   "metadata": {},
   "outputs": [],
   "source": [
    "import lucid\n",
    "import lucid.nn as nn\n",
    "import lucid.nn.functional as F\n",
    "import lucid.optim as optim\n",
    "import lucid.data as data\n",
    "import lucid.datasets as datasets\n",
    "import lucid.models as models\n",
    "\n",
    "from tqdm import tqdm\n",
    "import matplotlib.pyplot as plt"
   ]
  },
  {
   "cell_type": "code",
   "execution_count": null,
   "id": "a3572b0d",
   "metadata": {},
   "outputs": [],
   "source": [
    "batch_size = 128\n",
    "learning_rate = 1e-3\n",
    "num_epochs = 10\n",
    "latent_dim = 2"
   ]
  },
  {
   "cell_type": "code",
   "execution_count": null,
   "id": "8007115d",
   "metadata": {},
   "outputs": [],
   "source": [
    "train_set = datasets.FashionMNIST(root=\"../../data/fashion_mnist\", train=True)\n",
    "test_set = datasets.FashionMNIST(root=\"../../data/fashion_mnist\",train=False)"
   ]
  },
  {
   "cell_type": "code",
   "execution_count": null,
   "id": "5cdb51f2",
   "metadata": {},
   "outputs": [],
   "source": [
    "train_loader = data.DataLoader(train_set, batch_size=batch_size, shuffle=True)\n",
    "test_loader = data.DataLoader(test_set, batch_size=batch_size, shuffle=False)"
   ]
  },
  {
   "cell_type": "code",
   "execution_count": null,
   "id": "f797172d",
   "metadata": {},
   "outputs": [],
   "source": [
    "class VAE(nn.Module):\n",
    "    def __init__(self):\n",
    "        super().__init__()\n",
    "        self.fc1 = nn.Linear(784, 500)\n",
    "        self.fc2_mean = nn.Linear(500, latent_dim)\n",
    "        self.fc2_logvar = nn.Linear(500, latent_dim)\n",
    "        self.fc3 = nn.Linear(latent_dim, 500)\n",
    "        self.fc4 = nn.Linear(500, 784)\n",
    "    \n",
    "    def encode(self, x):\n",
    "        h1 = F.relu(self.fc1(x))\n",
    "        mean = self.fc2_mean(h1)\n",
    "        logvar = self.fc2_logvar(h1).clip(-10.0, 10.0)\n",
    "        return mean, logvar\n",
    "    \n",
    "    def reparameterize(self, mean, logvar):\n",
    "        std = lucid.exp(0.5 * logvar)\n",
    "        eps = lucid.random.randn(std.shape)\n",
    "        return mean + eps * std\n",
    "\n",
    "    def decode(self, z):\n",
    "        h3 = F.relu(self.fc3(z))\n",
    "        return F.sigmoid(self.fc4(h3))\n",
    "    \n",
    "    def forward(self, x):\n",
    "        mean, logvar = self.encode(x)\n",
    "        z = self.reparameterize(mean, logvar)\n",
    "        return self.decode(z), mean, logvar"
   ]
  },
  {
   "cell_type": "code",
   "execution_count": null,
   "id": "321cc4bd",
   "metadata": {},
   "outputs": [],
   "source": [
    "def loss_function(recon_x, x, mean, logvar):\n",
    "    BCE = F.binary_cross_entropy(recon_x, x, reduction='sum')\n",
    "    KLD = -0.5 * lucid.sum(1 + logvar - mean ** 2 - lucid.exp(logvar))\n",
    "    return BCE + KLD"
   ]
  },
  {
   "cell_type": "code",
   "execution_count": null,
   "id": "2f07e795",
   "metadata": {},
   "outputs": [],
   "source": [
    "def normalize(x):\n",
    "    norm = x.astype(lucid.Float) / 255.0\n",
    "    return norm.reshape(-1, 784)"
   ]
  },
  {
   "cell_type": "code",
   "execution_count": null,
   "id": "a92389a1",
   "metadata": {},
   "outputs": [],
   "source": [
    "def train(model, train_loader, optimizer, num_epochs):\n",
    "    losses = []\n",
    "    model.train()\n",
    "    for epoch in range(num_epochs):\n",
    "        epoch_loss = 0\n",
    "        progress_bar = tqdm(train_loader, desc=f\"Epoch {epoch+1}/{num_epochs}\")\n",
    "        for data, _ in progress_bar:\n",
    "            optimizer.zero_grad()\n",
    "            data = normalize(data)\n",
    "            recon_batch, mean, logvar = model(data)\n",
    "\n",
    "            loss = loss_function(recon_batch, data, mean, logvar)\n",
    "            loss.backward()\n",
    "            optimizer.step()\n",
    "\n",
    "            batch_loss = loss.item()\n",
    "            losses.append(batch_loss)\n",
    "            epoch_loss += batch_loss\n",
    "            progress_bar.set_postfix(loss=batch_loss)\n",
    "    \n",
    "    return losses"
   ]
  },
  {
   "cell_type": "code",
   "execution_count": null,
   "id": "51e0943c",
   "metadata": {},
   "outputs": [],
   "source": [
    "def test(model, test_loader):\n",
    "    model.eval()\n",
    "    test_loss = 0\n",
    "    losses = []\n",
    "    with lucid.no_grad():\n",
    "        progress_bar = tqdm(test_loader, desc=\"Testing\")\n",
    "        for data, _ in progress_bar:\n",
    "            recon_batch, mean, logvar = model(data)\n",
    "            loss = loss_function(recon_batch, data, mean, logvar).eval()\n",
    "            batch_loss = loss.item()\n",
    "\n",
    "            test_loss += batch_loss\n",
    "            losses.append(batch_loss)\n",
    "            progress_bar.set_postfix(loss=batch_loss)\n",
    "    \n",
    "    avg_loss = test_loss / len(test_loader)\n",
    "    print(f\"\\nAverage Test Loss: {avg_loss:.4f}\")\n",
    "    return losses"
   ]
  },
  {
   "cell_type": "code",
   "execution_count": null,
   "id": "924887a0",
   "metadata": {},
   "outputs": [],
   "source": [
    "model = VAE()\n",
    "optimizer = optim.Adam(model.parameters(), lr=learning_rate)\n",
    "\n",
    "models.summarize(model, input_shape=(1, 784))"
   ]
  },
  {
   "cell_type": "code",
   "execution_count": null,
   "id": "7edb86bb",
   "metadata": {},
   "outputs": [],
   "source": [
    "train_losses = train(model, train_loader, optimizer, num_epochs)"
   ]
  }
 ],
 "metadata": {
  "kernelspec": {
   "display_name": "Python 3",
   "language": "python",
   "name": "python3"
  },
  "language_info": {
   "codemirror_mode": {
    "name": "ipython",
    "version": 3
   },
   "file_extension": ".py",
   "mimetype": "text/x-python",
   "name": "python",
   "nbconvert_exporter": "python",
   "pygments_lexer": "ipython3",
   "version": "3.12.1"
  }
 },
 "nbformat": 4,
 "nbformat_minor": 5
}
