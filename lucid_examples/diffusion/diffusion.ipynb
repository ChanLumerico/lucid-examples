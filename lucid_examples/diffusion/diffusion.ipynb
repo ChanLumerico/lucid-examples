{
 "cells": [
  {
   "cell_type": "code",
   "execution_count": 11,
   "id": "b6a30ca3",
   "metadata": {},
   "outputs": [],
   "source": [
    "import torch\n",
    "import torch.nn as nn\n",
    "import torch.nn.functional as F\n",
    "import torch.optim as optim\n",
    "from torch.utils.data import DataLoader\n",
    "\n",
    "import torchvision\n",
    "from torchvision import transforms\n",
    "\n",
    "import matplotlib.pyplot as plt\n",
    "from tqdm import tqdm"
   ]
  },
  {
   "cell_type": "code",
   "execution_count": 12,
   "id": "28461feb",
   "metadata": {},
   "outputs": [],
   "source": [
    "class ConvBlock(nn.Module):\n",
    "    def __init__(self, in_channels, out_channels, t_embed_tim):\n",
    "        super().__init__()\n",
    "        self.convs = nn.Sequential(\n",
    "            nn.Conv2d(in_channels, out_channels, kernel_size=3, padding=1),\n",
    "            nn.BatchNorm2d(out_channels),\n",
    "            nn.ReLU(),\n",
    "            nn.Conv2d(out_channels, out_channels, kernel_size=3, padding=1),\n",
    "            nn.BatchNorm2d(out_channels),\n",
    "            nn.ReLU(),\n",
    "        )\n",
    "\n",
    "        self.mlp = nn.Sequential(\n",
    "            nn.Linear(t_embed_tim, in_channels),\n",
    "            nn.ReLU(),\n",
    "            nn.Linear(in_channels, in_channels)\n",
    "        )\n",
    "    \n",
    "    def forward(self, x, v):\n",
    "        N, C = x.shape[:2]\n",
    "        v = self.mlp(v)\n",
    "        v = v.view(N, C, 1, 1)\n",
    "        y = self.convs(x + v)\n",
    "        return y"
   ]
  },
  {
   "cell_type": "code",
   "execution_count": 13,
   "id": "63900bc6",
   "metadata": {},
   "outputs": [],
   "source": [
    "def _pos_encoding(t, output_dim, device=\"cpu\"):\n",
    "    D = output_dim\n",
    "    v = torch.zeros(D, device=device)\n",
    "\n",
    "    i = torch.arange(0, D, device=device)\n",
    "    div_term = 10000 ** (i / D)\n",
    "\n",
    "    v[0::2] = torch.sin(t / div_term[0::2])\n",
    "    v[1::2] = torch.cos(t / div_term[1::2])\n",
    "\n",
    "    return v\n",
    "\n",
    "\n",
    "def pos_encoding(ts, output_dim, device=\"cpu\"):\n",
    "    batch_size = len(ts)\n",
    "    v = torch.zeros(batch_size, output_dim, device=device)\n",
    "    for i in range(batch_size):\n",
    "        v[i] = _pos_encoding(ts[i], output_dim, device)\n",
    "    \n",
    "    return v"
   ]
  },
  {
   "cell_type": "code",
   "execution_count": 14,
   "id": "a0c9a84c",
   "metadata": {},
   "outputs": [],
   "source": [
    "class UNet(nn.Module):\n",
    "    def __init__(self, in_channels=1, t_embed_dim=100):\n",
    "        super().__init__()\n",
    "        self.down1 = ConvBlock(in_channels, 64, t_embed_tim=t_embed_dim)\n",
    "        self.down2 = ConvBlock(64, 128, t_embed_tim=t_embed_dim)\n",
    "        self.bot1 = ConvBlock(128, 256, t_embed_tim=t_embed_dim)\n",
    "\n",
    "        self.up2 = ConvBlock(128 + 256, 128, t_embed_tim=t_embed_dim)\n",
    "        self.up1 = ConvBlock(128 + 64, 64, t_embed_tim=t_embed_dim)\n",
    "        self.out = nn.Conv2d(64, in_channels, kernel_size=1)\n",
    "\n",
    "        self.maxpool = nn.MaxPool2d(kernel_size=2)\n",
    "        self.upsample = nn.Upsample(scale_factor=2, mode=\"bilinear\")\n",
    "\n",
    "        self.t_embed_dim = t_embed_dim\n",
    "    \n",
    "    def forward(self, x, ts):\n",
    "        v = pos_encoding(ts, self.t_embed_dim, x.device)\n",
    "\n",
    "        x1 = self.down1(x, v)\n",
    "        x = self.maxpool(x1)\n",
    "        x2 = self.down2(x, v)\n",
    "        x = self.maxpool(x2)\n",
    "\n",
    "        x = self.bot1(x, v)\n",
    "\n",
    "        x = self.upsample(x)\n",
    "        x = torch.cat([x, x2], dim=1)\n",
    "        x = self.up2(x, v)\n",
    "        x = self.upsample(x)\n",
    "        x = torch.cat([x, x1], dim=1)\n",
    "        x = self.up1(x, v)\n",
    "        x = self.out(x)\n",
    "\n",
    "        return x"
   ]
  },
  {
   "cell_type": "code",
   "execution_count": 15,
   "id": "c8db61ab",
   "metadata": {},
   "outputs": [],
   "source": [
    "class Diffuser(nn.Module):\n",
    "    def __init__(self, num_timesteps=1000, beta_start=0.0001, beta_end=0.02, device=\"cpu\"):\n",
    "        super().__init__()\n",
    "        self.num_timesteps = num_timesteps\n",
    "        self.device = device\n",
    "\n",
    "        self.betas = torch.linspace(beta_start, beta_end, num_timesteps, device=device)\n",
    "        self.alphas = 1 - self.betas\n",
    "        self.alpha_bars = torch.cumprod(self.alphas, dim=0)\n",
    "    \n",
    "    def add_noise(self, x_0, t):\n",
    "        T = self.num_timesteps\n",
    "        assert (t >= 1).all() and (t <= T).all()\n",
    "        t_idx = T - 1\n",
    "\n",
    "        alpha_bar = self.alpha_bars[t_idx]\n",
    "        alpha_bar = alpha_bar.view(-1, 1, 1, 1)\n",
    "\n",
    "        noise = torch.randn_like(x_0, device=self.device)\n",
    "        x_t = torch.sqrt(alpha_bar) * x_0 + torch.sqrt(1 - alpha_bar) * noise\n",
    "        return x_t, noise\n",
    "    \n",
    "    def denoise(self, model, x, t):\n",
    "        T = self.num_timesteps\n",
    "        assert (t >= 1).all() and (t <= T).all()\n",
    "        t_idx = T - 1\n",
    "\n",
    "        alpha = self.alphas[t_idx]\n",
    "        alpha_bar = self.alpha_bars[t_idx]\n",
    "        alpha_bar_prev = self.alpha_bars[t_idx - 1]\n",
    "\n",
    "        alpha = alpha.view(-1, 1, 1, 1)\n",
    "        alpha_bar = alpha_bar.view(-1, 1, 1, 1)\n",
    "        alpha_bar_prev = alpha_bar_prev.view(-1, 1, 1, 1)\n",
    "\n",
    "        model.eval()\n",
    "        with torch.no_grad():\n",
    "            eps = model(x, t)\n",
    "        model.train()\n",
    "\n",
    "        noise = torch.rand_like(x, device=self.device)\n",
    "        noise[t == 1] = 0.0\n",
    "\n",
    "        mu = (x - ((1 - alpha) / torch.sqrt(1 - alpha_bar)) * eps) / torch.sqrt(alpha)\n",
    "        std = torch.sqrt((1 - alpha) * (1 - alpha_bar_prev) / (1 - alpha_bar))\n",
    "\n",
    "        return mu + noise * std\n",
    "    \n",
    "    def reverse_to_img(self, x):\n",
    "        x *= 255\n",
    "        x = x.clamp(0, 255)\n",
    "        x = x.to(torch.uint8)\n",
    "        x = x.cpu()\n",
    "        to_pil = transforms.ToPILImage()\n",
    "        return to_pil(x)\n",
    "    \n",
    "    def sample(self, model, x_shape=(16, 1, 28, 28)):\n",
    "        batch_size = x_shape[0]\n",
    "        x = torch.randn(x_shape, device=self.device)\n",
    "\n",
    "        for i in tqdm(range(self.num_timesteps, 0, -1)):\n",
    "            t = torch.tensor([i] * batch_size, device=self.device, dtype=torch.long)\n",
    "            x = self.denoise(model, x, t)\n",
    "        \n",
    "        images = [self.reverse_to_img(x[i]) for i in range(batch_size)]\n",
    "        return images"
   ]
  },
  {
   "cell_type": "code",
   "execution_count": 16,
   "id": "c30c6ea8",
   "metadata": {},
   "outputs": [],
   "source": [
    "img_size = 28\n",
    "batch_size = 128\n",
    "num_timesteps = 1000\n",
    "epochs = 10\n",
    "lr = 1e-3\n",
    "device = \"cpu\""
   ]
  },
  {
   "cell_type": "code",
   "execution_count": 17,
   "id": "0c17b6aa",
   "metadata": {},
   "outputs": [],
   "source": [
    "preprocess = transforms.ToTensor()\n",
    "dataset = torchvision.datasets.MNIST(root=\"../../data/mnist\", download=True, transform=preprocess)\n",
    "dataloader = DataLoader(dataset, batch_size=batch_size, shuffle=True)"
   ]
  },
  {
   "cell_type": "code",
   "execution_count": 18,
   "id": "66c5dd09",
   "metadata": {},
   "outputs": [],
   "source": [
    "diffuser = Diffuser(num_timesteps, device=device)"
   ]
  },
  {
   "cell_type": "code",
   "execution_count": 19,
   "id": "597debc4",
   "metadata": {},
   "outputs": [
    {
     "data": {
      "text/plain": [
       "UNet(\n",
       "  (down1): ConvBlock(\n",
       "    (convs): Sequential(\n",
       "      (0): Conv2d(1, 64, kernel_size=(3, 3), stride=(1, 1), padding=(1, 1))\n",
       "      (1): BatchNorm2d(64, eps=1e-05, momentum=0.1, affine=True, track_running_stats=True)\n",
       "      (2): ReLU()\n",
       "      (3): Conv2d(64, 64, kernel_size=(3, 3), stride=(1, 1), padding=(1, 1))\n",
       "      (4): BatchNorm2d(64, eps=1e-05, momentum=0.1, affine=True, track_running_stats=True)\n",
       "      (5): ReLU()\n",
       "    )\n",
       "    (mlp): Sequential(\n",
       "      (0): Linear(in_features=100, out_features=1, bias=True)\n",
       "      (1): ReLU()\n",
       "      (2): Linear(in_features=1, out_features=1, bias=True)\n",
       "    )\n",
       "  )\n",
       "  (down2): ConvBlock(\n",
       "    (convs): Sequential(\n",
       "      (0): Conv2d(64, 128, kernel_size=(3, 3), stride=(1, 1), padding=(1, 1))\n",
       "      (1): BatchNorm2d(128, eps=1e-05, momentum=0.1, affine=True, track_running_stats=True)\n",
       "      (2): ReLU()\n",
       "      (3): Conv2d(128, 128, kernel_size=(3, 3), stride=(1, 1), padding=(1, 1))\n",
       "      (4): BatchNorm2d(128, eps=1e-05, momentum=0.1, affine=True, track_running_stats=True)\n",
       "      (5): ReLU()\n",
       "    )\n",
       "    (mlp): Sequential(\n",
       "      (0): Linear(in_features=100, out_features=64, bias=True)\n",
       "      (1): ReLU()\n",
       "      (2): Linear(in_features=64, out_features=64, bias=True)\n",
       "    )\n",
       "  )\n",
       "  (bot1): ConvBlock(\n",
       "    (convs): Sequential(\n",
       "      (0): Conv2d(128, 256, kernel_size=(3, 3), stride=(1, 1), padding=(1, 1))\n",
       "      (1): BatchNorm2d(256, eps=1e-05, momentum=0.1, affine=True, track_running_stats=True)\n",
       "      (2): ReLU()\n",
       "      (3): Conv2d(256, 256, kernel_size=(3, 3), stride=(1, 1), padding=(1, 1))\n",
       "      (4): BatchNorm2d(256, eps=1e-05, momentum=0.1, affine=True, track_running_stats=True)\n",
       "      (5): ReLU()\n",
       "    )\n",
       "    (mlp): Sequential(\n",
       "      (0): Linear(in_features=100, out_features=128, bias=True)\n",
       "      (1): ReLU()\n",
       "      (2): Linear(in_features=128, out_features=128, bias=True)\n",
       "    )\n",
       "  )\n",
       "  (up2): ConvBlock(\n",
       "    (convs): Sequential(\n",
       "      (0): Conv2d(384, 128, kernel_size=(3, 3), stride=(1, 1), padding=(1, 1))\n",
       "      (1): BatchNorm2d(128, eps=1e-05, momentum=0.1, affine=True, track_running_stats=True)\n",
       "      (2): ReLU()\n",
       "      (3): Conv2d(128, 128, kernel_size=(3, 3), stride=(1, 1), padding=(1, 1))\n",
       "      (4): BatchNorm2d(128, eps=1e-05, momentum=0.1, affine=True, track_running_stats=True)\n",
       "      (5): ReLU()\n",
       "    )\n",
       "    (mlp): Sequential(\n",
       "      (0): Linear(in_features=100, out_features=384, bias=True)\n",
       "      (1): ReLU()\n",
       "      (2): Linear(in_features=384, out_features=384, bias=True)\n",
       "    )\n",
       "  )\n",
       "  (up1): ConvBlock(\n",
       "    (convs): Sequential(\n",
       "      (0): Conv2d(192, 64, kernel_size=(3, 3), stride=(1, 1), padding=(1, 1))\n",
       "      (1): BatchNorm2d(64, eps=1e-05, momentum=0.1, affine=True, track_running_stats=True)\n",
       "      (2): ReLU()\n",
       "      (3): Conv2d(64, 64, kernel_size=(3, 3), stride=(1, 1), padding=(1, 1))\n",
       "      (4): BatchNorm2d(64, eps=1e-05, momentum=0.1, affine=True, track_running_stats=True)\n",
       "      (5): ReLU()\n",
       "    )\n",
       "    (mlp): Sequential(\n",
       "      (0): Linear(in_features=100, out_features=192, bias=True)\n",
       "      (1): ReLU()\n",
       "      (2): Linear(in_features=192, out_features=192, bias=True)\n",
       "    )\n",
       "  )\n",
       "  (out): Conv2d(64, 1, kernel_size=(1, 1), stride=(1, 1))\n",
       "  (maxpool): MaxPool2d(kernel_size=2, stride=2, padding=0, dilation=1, ceil_mode=False)\n",
       "  (upsample): Upsample(scale_factor=2.0, mode='bilinear')\n",
       ")"
      ]
     },
     "execution_count": 19,
     "metadata": {},
     "output_type": "execute_result"
    }
   ],
   "source": [
    "model = UNet().to(device)\n",
    "optimizer = optim.Adam(model.parameters(), lr=lr)\n",
    "\n",
    "model"
   ]
  },
  {
   "cell_type": "code",
   "execution_count": 20,
   "id": "dbe15914",
   "metadata": {},
   "outputs": [
    {
     "name": "stderr",
     "output_type": "stream",
     "text": [
      "Epoch 1/10: 100%|██████████| 469/469 [05:09<00:00,  1.52it/s, avg=0.0109, loss=0.0015]\n",
      "Epoch 2/10: 100%|██████████| 469/469 [05:11<00:00,  1.51it/s, avg=0.0012, loss=0.0008]\n",
      "Epoch 3/10: 100%|██████████| 469/469 [05:10<00:00,  1.51it/s, avg=0.0007, loss=0.0005]\n",
      "Epoch 4/10: 100%|██████████| 469/469 [05:10<00:00,  1.51it/s, avg=0.0005, loss=0.0003]\n",
      "Epoch 5/10: 100%|██████████| 469/469 [05:11<00:00,  1.51it/s, avg=0.0004, loss=0.0003]\n",
      "Epoch 6/10: 100%|██████████| 469/469 [05:10<00:00,  1.51it/s, avg=0.0003, loss=0.0002]\n",
      "Epoch 7/10: 100%|██████████| 469/469 [05:12<00:00,  1.50it/s, avg=0.0003, loss=0.0004]\n",
      "Epoch 8/10: 100%|██████████| 469/469 [05:12<00:00,  1.50it/s, avg=0.0003, loss=0.0002]\n",
      "Epoch 9/10: 100%|██████████| 469/469 [05:12<00:00,  1.50it/s, avg=0.0002, loss=0.0002]\n",
      "Epoch 10/10: 100%|██████████| 469/469 [05:12<00:00,  1.50it/s, avg=0.0002, loss=0.0002]\n"
     ]
    }
   ],
   "source": [
    "losses = []\n",
    "for epoch in range(epochs):\n",
    "    loss_sum = 0.0\n",
    "    cnt = 0\n",
    "    pbar = tqdm(dataloader, desc=f\"Epoch {epoch + 1}/{epochs}\")\n",
    "\n",
    "    for images, labels in pbar:\n",
    "        optimizer.zero_grad()\n",
    "        x = images.to(device)\n",
    "        t = torch.randint(1, num_timesteps + 1, (len(x),), device=device)\n",
    "\n",
    "        x_noisy, noise = diffuser.add_noise(x, t)\n",
    "        noise_pred = model(x_noisy, t)\n",
    "        loss = F.mse_loss(noise, noise_pred)\n",
    "        loss.backward()\n",
    "        optimizer.step()\n",
    "\n",
    "        batch_loss = loss.item()\n",
    "        loss_sum += batch_loss\n",
    "        cnt += 1\n",
    "        avg_loss = loss_sum / cnt\n",
    "        losses.append(batch_loss)\n",
    "\n",
    "        pbar.set_postfix(loss=f\"{batch_loss:.4f}\", avg=f\"{avg_loss:.4f}\")"
   ]
  },
  {
   "cell_type": "code",
   "execution_count": 24,
   "id": "ea2a588e",
   "metadata": {},
   "outputs": [
    {
     "data": {
      "image/png": "[encoded data removed]",
      "text/plain": [
       "<Figure size 640x480 with 1 Axes>"
      ]
     },
     "metadata": {},
     "output_type": "display_data"
    }
   ],
   "source": [
    "plt.plot(losses, label=\"Noise MSE Loss\")\n",
    "plt.xlabel(\"Iteration\")\n",
    "plt.ylabel(\"Loss\")\n",
    "plt.title(\"Standard DDPM for MNIST Training Loss\")\n",
    "plt.legend()\n",
    "plt.grid(alpha=0.3)\n",
    "plt.tight_layout()"
   ]
  },
  {
   "cell_type": "code",
   "execution_count": 22,
   "id": "d4799d38",
   "metadata": {},
   "outputs": [],
   "source": [
    "def show_images(images, rows=2, cols=8):\n",
    "    fig = plt.figure(figsize=(cols, rows))\n",
    "    i = 0\n",
    "    for _ in range(rows):\n",
    "        for _ in range(cols):\n",
    "            fig.add_subplot(rows, cols, i + 1)\n",
    "            plt.imshow(images[i], cmap=\"gray\")\n",
    "            plt.axis(\"off\")\n",
    "            i += 1\n",
    "    \n",
    "    fig.tight_layout()\n",
    "    return fig"
   ]
  },
  {
   "cell_type": "code",
   "execution_count": 23,
   "id": "409f364f",
   "metadata": {},
   "outputs": [
    {
     "name": "stderr",
     "output_type": "stream",
     "text": [
      "100%|██████████| 1000/1000 [00:27<00:00, 36.43it/s]\n"
     ]
    },
    {
     "data": {
      "image/png": "[encoded data removed]",
      "text/plain": [
       "<Figure size 800x200 with 16 Axes>"
      ]
     },
     "execution_count": 23,
     "metadata": {},
     "output_type": "execute_result"
    },
    {
     "data": {
      "image/png": "[encoded data removed]",
      "text/plain": [
       "<Figure size 800x200 with 16 Axes>"
      ]
     },
     "metadata": {},
     "output_type": "display_data"
    }
   ],
   "source": [
    "images = diffuser.sample(model)\n",
    "show_images(images)"
   ]
  }
 ],
 "metadata": {
  "kernelspec": {
   "display_name": "Python 3",
   "language": "python",
   "name": "python3"
  },
  "language_info": {
   "codemirror_mode": {
    "name": "ipython",
    "version": 3
   },
   "file_extension": ".py",
   "mimetype": "text/x-python",
   "name": "python",
   "nbconvert_exporter": "python",
   "pygments_lexer": "ipython3",
   "version": "3.12.1"
  }
 },
 "nbformat": 4,
 "nbformat_minor": 5
}
