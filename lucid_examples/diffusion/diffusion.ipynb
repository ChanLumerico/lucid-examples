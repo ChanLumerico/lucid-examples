{
 "cells": [
  {
   "cell_type": "code",
   "execution_count": null,
   "id": "b6a30ca3",
   "metadata": {},
   "outputs": [],
   "source": [
    "import torch\n",
    "import torch.nn as nn"
   ]
  },
  {
   "cell_type": "code",
   "execution_count": 5,
   "id": "28461feb",
   "metadata": {},
   "outputs": [],
   "source": [
    "class ConvBlock(nn.Module):\n",
    "    def __init__(self, in_channels, out_channels, t_embed_tim):\n",
    "        super().__init__()\n",
    "        self.convs = nn.Sequential(\n",
    "            nn.Conv2d(in_channels, out_channels, kernel_size=3, padding=1),\n",
    "            nn.BatchNorm2d(out_channels).\n",
    "            nn.ReLU(),\n",
    "            nn.Conv2d(out_channels, out_channels, kernel_size=3, padding=1),\n",
    "            nn.BatchNorm2d(out_channels),\n",
    "            nn.ReLU(),\n",
    "        )\n",
    "\n",
    "        self.mlp = nn.Sequential(\n",
    "            nn.Linear(t_embed_tim, in_channels),\n",
    "            nn.ReLU(),\n",
    "            nn.Linear(in_channels, in_channels)\n",
    "        )\n",
    "    \n",
    "    def forward(self, x, v):\n",
    "        N, C = x.shape[:2]\n",
    "        v = self.mlp(v)\n",
    "        v = v.view(N, C, 1, 1)\n",
    "        y = self.convs(x + v)\n",
    "        return y"
   ]
  },
  {
   "cell_type": "code",
   "execution_count": 6,
   "id": "63900bc6",
   "metadata": {},
   "outputs": [],
   "source": [
    "def _pos_encoding(t, output_dim, device=\"cpu\"):\n",
    "    D = output_dim\n",
    "    v = torch.zeros(D, device=device)\n",
    "\n",
    "    i = torch.arange(0, D, device=device)\n",
    "    div_term = 10000 ** (i / D)\n",
    "\n",
    "    v[0::2] = torch.sin(t / div_term[0::2])\n",
    "    v[1::2] = torch.cos(t / div_term[1::2])\n",
    "\n",
    "    return v\n",
    "\n",
    "\n",
    "def pos_encoding(ts, output_dim, device=\"cpu\"):\n",
    "    batch_size = len(ts)\n",
    "    v = torch.zeros(batch_size, output_dim, device=device)\n",
    "    for i in range(batch_size):\n",
    "        v[i] = _pos_encoding(ts[i], output_dim, device)\n",
    "    \n",
    "    return v"
   ]
  },
  {
   "cell_type": "code",
   "execution_count": null,
   "id": "a0c9a84c",
   "metadata": {},
   "outputs": [],
   "source": [
    "class UNet(nn.Module):\n",
    "    def __init__(self, in_channels=1, t_embed_dim=100):\n",
    "        super().__init__()\n",
    "        self.down1 = ConvBlock(in_channels, 64)\n",
    "        self.down2 = ConvBlock(64, 128)\n",
    "        self.bot1 = ConvBlock(128, 256)\n",
    "\n",
    "        self.up2 = ConvBlock(128 + 256, 128)\n",
    "        self.up1 = ConvBlock(128 + 64, 64)\n",
    "        self.out = nn.Conv2d(64, in_channels, kernel_size=1)\n",
    "\n",
    "        self.maxpool = nn.MaxPool2d(kernel_size=2)\n",
    "        self.upsample = nn.Upsample(scale_factor=2, mode=\"bilinear\")\n",
    "\n",
    "        self.t_embed_dim = t_embed_dim\n",
    "    \n",
    "    def forward(self, x, ts):\n",
    "        v = pos_encoding(ts, self.t_embed_dim, x.device)\n",
    "\n",
    "        x1 = self.down1(x, v)\n",
    "        x = self.maxpool(x1)\n",
    "        x2 = self.down2(x, v)\n",
    "        x = self.maxpool(x2)\n",
    "\n",
    "        x = self.bot1(x)\n",
    "\n",
    "        x = self.upsample(x)\n",
    "        x = torch.cat([x, x2], dim=1)\n",
    "        x = self.up2(x)\n",
    "        x = self.upsample(x)\n",
    "        x = torch.cat([x, x1], dim=1)\n",
    "        x = self.up1(x)\n",
    "        x = self.out(x)\n",
    "\n",
    "        return x"
   ]
  },
  {
   "cell_type": "code",
   "execution_count": null,
   "id": "c8db61ab",
   "metadata": {},
   "outputs": [],
   "source": [
    "class Diffuser(nn.Module):\n",
    "    NotImplemented"
   ]
  }
 ],
 "metadata": {
  "kernelspec": {
   "display_name": "Python 3",
   "language": "python",
   "name": "python3"
  },
  "language_info": {
   "codemirror_mode": {
    "name": "ipython",
    "version": 3
   },
   "file_extension": ".py",
   "mimetype": "text/x-python",
   "name": "python",
   "nbconvert_exporter": "python",
   "pygments_lexer": "ipython3",
   "version": "3.12.1"
  }
 },
 "nbformat": 4,
 "nbformat_minor": 5
}
